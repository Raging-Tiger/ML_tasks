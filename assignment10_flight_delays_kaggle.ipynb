{
 "cells": [
  {
   "cell_type": "markdown",
   "metadata": {},
   "source": [
    "<center>\n",
    "<img src=\"../../img/ods_stickers.jpg\">\n",
    "## Open Machine Learning Course\n",
    "<center>Author: [Yury Kashnitsky](https://www.linkedin.com/in/festline/), Data Scientist @ Mail.Ru Group <br>All content is distributed under the [Creative Commons CC BY-NC-SA 4.0](https://creativecommons.org/licenses/by-nc-sa/4.0/) license."
   ]
  },
  {
   "cell_type": "markdown",
   "metadata": {},
   "source": [
    "# <center> Assignment #10 (demo)\n",
    "## <center> Gradient boosting\n",
    "\n",
    "Your task is to beat at least 2 benchmarks in this [Kaggle Inclass competition](https://www.kaggle.com/c/flight-delays-spring-2018). Here you won’t be provided with detailed instructions. We only give you a brief description of how the second benchmark was achieved using Xgboost. Hopefully, at this stage of the course, it's enough for you to take a quick look at the data in order to understand that this is the type of task where gradient boosting will perform well. Most likely it will be Xgboost, however, we’ve got plenty of categorical features here.\n",
    "\n",
    "<img src='../../img/xgboost_meme.jpg' width=40% />"
   ]
  },
  {
   "cell_type": "code",
   "execution_count": 53,
   "metadata": {},
   "outputs": [],
   "source": [
    "import warnings\n",
    "\n",
    "warnings.filterwarnings(\"ignore\")\n",
    "import numpy as np\n",
    "import pandas as pd\n",
    "from sklearn.linear_model import LogisticRegression\n",
    "from sklearn.metrics import roc_auc_score\n",
    "from sklearn.model_selection import train_test_split\n",
    "from sklearn.preprocessing import StandardScaler\n",
    "from xgboost import XGBClassifier"
   ]
  },
  {
   "cell_type": "code",
   "execution_count": 54,
   "metadata": {},
   "outputs": [],
   "source": [
    "train = pd.read_csv(\"../../data/flight_delays_train.csv\")\n",
    "test = pd.read_csv(\"../../data/flight_delays_test.csv\")"
   ]
  },
  {
   "cell_type": "code",
   "execution_count": 55,
   "metadata": {},
   "outputs": [
    {
     "data": {
      "text/html": [
       "<div>\n",
       "<style scoped>\n",
       "    .dataframe tbody tr th:only-of-type {\n",
       "        vertical-align: middle;\n",
       "    }\n",
       "\n",
       "    .dataframe tbody tr th {\n",
       "        vertical-align: top;\n",
       "    }\n",
       "\n",
       "    .dataframe thead th {\n",
       "        text-align: right;\n",
       "    }\n",
       "</style>\n",
       "<table border=\"1\" class=\"dataframe\">\n",
       "  <thead>\n",
       "    <tr style=\"text-align: right;\">\n",
       "      <th></th>\n",
       "      <th>Month</th>\n",
       "      <th>DayofMonth</th>\n",
       "      <th>DayOfWeek</th>\n",
       "      <th>DepTime</th>\n",
       "      <th>UniqueCarrier</th>\n",
       "      <th>Origin</th>\n",
       "      <th>Dest</th>\n",
       "      <th>Distance</th>\n",
       "      <th>dep_delayed_15min</th>\n",
       "    </tr>\n",
       "  </thead>\n",
       "  <tbody>\n",
       "    <tr>\n",
       "      <th>0</th>\n",
       "      <td>c-8</td>\n",
       "      <td>c-21</td>\n",
       "      <td>c-7</td>\n",
       "      <td>1934</td>\n",
       "      <td>AA</td>\n",
       "      <td>ATL</td>\n",
       "      <td>DFW</td>\n",
       "      <td>732</td>\n",
       "      <td>N</td>\n",
       "    </tr>\n",
       "    <tr>\n",
       "      <th>1</th>\n",
       "      <td>c-4</td>\n",
       "      <td>c-20</td>\n",
       "      <td>c-3</td>\n",
       "      <td>1548</td>\n",
       "      <td>US</td>\n",
       "      <td>PIT</td>\n",
       "      <td>MCO</td>\n",
       "      <td>834</td>\n",
       "      <td>N</td>\n",
       "    </tr>\n",
       "    <tr>\n",
       "      <th>2</th>\n",
       "      <td>c-9</td>\n",
       "      <td>c-2</td>\n",
       "      <td>c-5</td>\n",
       "      <td>1422</td>\n",
       "      <td>XE</td>\n",
       "      <td>RDU</td>\n",
       "      <td>CLE</td>\n",
       "      <td>416</td>\n",
       "      <td>N</td>\n",
       "    </tr>\n",
       "    <tr>\n",
       "      <th>3</th>\n",
       "      <td>c-11</td>\n",
       "      <td>c-25</td>\n",
       "      <td>c-6</td>\n",
       "      <td>1015</td>\n",
       "      <td>OO</td>\n",
       "      <td>DEN</td>\n",
       "      <td>MEM</td>\n",
       "      <td>872</td>\n",
       "      <td>N</td>\n",
       "    </tr>\n",
       "    <tr>\n",
       "      <th>4</th>\n",
       "      <td>c-10</td>\n",
       "      <td>c-7</td>\n",
       "      <td>c-6</td>\n",
       "      <td>1828</td>\n",
       "      <td>WN</td>\n",
       "      <td>MDW</td>\n",
       "      <td>OMA</td>\n",
       "      <td>423</td>\n",
       "      <td>Y</td>\n",
       "    </tr>\n",
       "  </tbody>\n",
       "</table>\n",
       "</div>"
      ],
      "text/plain": [
       "  Month DayofMonth DayOfWeek  DepTime UniqueCarrier Origin Dest  Distance  \\\n",
       "0   c-8       c-21       c-7     1934            AA    ATL  DFW       732   \n",
       "1   c-4       c-20       c-3     1548            US    PIT  MCO       834   \n",
       "2   c-9        c-2       c-5     1422            XE    RDU  CLE       416   \n",
       "3  c-11       c-25       c-6     1015            OO    DEN  MEM       872   \n",
       "4  c-10        c-7       c-6     1828            WN    MDW  OMA       423   \n",
       "\n",
       "  dep_delayed_15min  \n",
       "0                 N  \n",
       "1                 N  \n",
       "2                 N  \n",
       "3                 N  \n",
       "4                 Y  "
      ]
     },
     "execution_count": 55,
     "metadata": {},
     "output_type": "execute_result"
    }
   ],
   "source": [
    "train.head()"
   ]
  },
  {
   "cell_type": "code",
   "execution_count": 56,
   "metadata": {
    "scrolled": true
   },
   "outputs": [
    {
     "data": {
      "text/html": [
       "<div>\n",
       "<style scoped>\n",
       "    .dataframe tbody tr th:only-of-type {\n",
       "        vertical-align: middle;\n",
       "    }\n",
       "\n",
       "    .dataframe tbody tr th {\n",
       "        vertical-align: top;\n",
       "    }\n",
       "\n",
       "    .dataframe thead th {\n",
       "        text-align: right;\n",
       "    }\n",
       "</style>\n",
       "<table border=\"1\" class=\"dataframe\">\n",
       "  <thead>\n",
       "    <tr style=\"text-align: right;\">\n",
       "      <th></th>\n",
       "      <th>Month</th>\n",
       "      <th>DayofMonth</th>\n",
       "      <th>DayOfWeek</th>\n",
       "      <th>DepTime</th>\n",
       "      <th>UniqueCarrier</th>\n",
       "      <th>Origin</th>\n",
       "      <th>Dest</th>\n",
       "      <th>Distance</th>\n",
       "    </tr>\n",
       "  </thead>\n",
       "  <tbody>\n",
       "    <tr>\n",
       "      <th>0</th>\n",
       "      <td>c-7</td>\n",
       "      <td>c-25</td>\n",
       "      <td>c-3</td>\n",
       "      <td>615</td>\n",
       "      <td>YV</td>\n",
       "      <td>MRY</td>\n",
       "      <td>PHX</td>\n",
       "      <td>598</td>\n",
       "    </tr>\n",
       "    <tr>\n",
       "      <th>1</th>\n",
       "      <td>c-4</td>\n",
       "      <td>c-17</td>\n",
       "      <td>c-2</td>\n",
       "      <td>739</td>\n",
       "      <td>WN</td>\n",
       "      <td>LAS</td>\n",
       "      <td>HOU</td>\n",
       "      <td>1235</td>\n",
       "    </tr>\n",
       "    <tr>\n",
       "      <th>2</th>\n",
       "      <td>c-12</td>\n",
       "      <td>c-2</td>\n",
       "      <td>c-7</td>\n",
       "      <td>651</td>\n",
       "      <td>MQ</td>\n",
       "      <td>GSP</td>\n",
       "      <td>ORD</td>\n",
       "      <td>577</td>\n",
       "    </tr>\n",
       "    <tr>\n",
       "      <th>3</th>\n",
       "      <td>c-3</td>\n",
       "      <td>c-25</td>\n",
       "      <td>c-7</td>\n",
       "      <td>1614</td>\n",
       "      <td>WN</td>\n",
       "      <td>BWI</td>\n",
       "      <td>MHT</td>\n",
       "      <td>377</td>\n",
       "    </tr>\n",
       "    <tr>\n",
       "      <th>4</th>\n",
       "      <td>c-6</td>\n",
       "      <td>c-6</td>\n",
       "      <td>c-3</td>\n",
       "      <td>1505</td>\n",
       "      <td>UA</td>\n",
       "      <td>ORD</td>\n",
       "      <td>STL</td>\n",
       "      <td>258</td>\n",
       "    </tr>\n",
       "  </tbody>\n",
       "</table>\n",
       "</div>"
      ],
      "text/plain": [
       "  Month DayofMonth DayOfWeek  DepTime UniqueCarrier Origin Dest  Distance\n",
       "0   c-7       c-25       c-3      615            YV    MRY  PHX       598\n",
       "1   c-4       c-17       c-2      739            WN    LAS  HOU      1235\n",
       "2  c-12        c-2       c-7      651            MQ    GSP  ORD       577\n",
       "3   c-3       c-25       c-7     1614            WN    BWI  MHT       377\n",
       "4   c-6        c-6       c-3     1505            UA    ORD  STL       258"
      ]
     },
     "execution_count": 56,
     "metadata": {},
     "output_type": "execute_result"
    }
   ],
   "source": [
    "test.head()"
   ]
  },
  {
   "cell_type": "markdown",
   "metadata": {},
   "source": [
    "Given flight departure time, carrier's code, departure airport, destination location, and flight distance, you have to predict departure delay for more than 15 minutes. As the simplest benchmark, let's take Xgboost classifier and two features that are easiest to take: DepTime and Distance. Such model results in 0.68202 on the LB."
   ]
  },
  {
   "cell_type": "code",
   "execution_count": 57,
   "metadata": {},
   "outputs": [],
   "source": [
    "X_train = train[[\"Distance\", \"DepTime\"]].values\n",
    "y_train = train[\"dep_delayed_15min\"].map({\"Y\": 1, \"N\": 0}).values\n",
    "X_test = test[[\"Distance\", \"DepTime\"]].values\n",
    "\n",
    "X_train_part, X_valid, y_train_part, y_valid = train_test_split(\n",
    "    X_train, y_train, test_size=0.3, random_state=17\n",
    ")"
   ]
  },
  {
   "cell_type": "markdown",
   "metadata": {},
   "source": [
    "We'll train Xgboost with default parameters on part of data and estimate holdout ROC AUC."
   ]
  },
  {
   "cell_type": "code",
   "execution_count": 58,
   "metadata": {},
   "outputs": [
    {
     "name": "stdout",
     "output_type": "stream",
     "text": [
      "[12:54:16] WARNING: C:/Users/Administrator/workspace/xgboost-win64_release_1.4.0/src/learner.cc:1095: Starting in XGBoost 1.3.0, the default evaluation metric used with the objective 'binary:logistic' was changed from 'error' to 'logloss'. Explicitly set eval_metric if you'd like to restore the old behavior.\n"
     ]
    },
    {
     "data": {
      "text/plain": [
       "0.7001228548770644"
      ]
     },
     "execution_count": 58,
     "metadata": {},
     "output_type": "execute_result"
    }
   ],
   "source": [
    "xgb_model = XGBClassifier(seed=17)\n",
    "\n",
    "xgb_model.fit(X_train_part, y_train_part)\n",
    "xgb_valid_pred = xgb_model.predict_proba(X_valid)[:, 1]\n",
    "\n",
    "roc_auc_score(y_valid, xgb_valid_pred)"
   ]
  },
  {
   "cell_type": "markdown",
   "metadata": {},
   "source": [
    "Now we do the same with the whole training set, make predictions to test set and form a submission file. This is how you beat the first benchmark. "
   ]
  },
  {
   "cell_type": "code",
   "execution_count": 59,
   "metadata": {},
   "outputs": [
    {
     "name": "stdout",
     "output_type": "stream",
     "text": [
      "[12:54:17] WARNING: C:/Users/Administrator/workspace/xgboost-win64_release_1.4.0/src/learner.cc:1095: Starting in XGBoost 1.3.0, the default evaluation metric used with the objective 'binary:logistic' was changed from 'error' to 'logloss'. Explicitly set eval_metric if you'd like to restore the old behavior.\n"
     ]
    }
   ],
   "source": [
    "xgb_model.fit(X_train, y_train)\n",
    "xgb_test_pred = xgb_model.predict_proba(X_test)[:, 1]\n",
    "\n",
    "pd.Series(xgb_test_pred, name=\"dep_delayed_15min\").to_csv(\n",
    "    \"xgb_2feat.csv\", index_label=\"id\", header=True\n",
    ")"
   ]
  },
  {
   "cell_type": "markdown",
   "metadata": {},
   "source": [
    "***So, the goal of the assignment is to surpass benchmark2, which (0.72045 ROC AUC) and benchmark3 (0.72988 ROC AUC)***."
   ]
  },
  {
   "cell_type": "code",
   "execution_count": 115,
   "metadata": {},
   "outputs": [],
   "source": [
    "train1 =  train.copy()\n",
    "test1 = test.copy()"
   ]
  },
  {
   "cell_type": "markdown",
   "metadata": {},
   "source": [
    "***Advices below recommend to create new feature and drop previous two.***"
   ]
  },
  {
   "cell_type": "code",
   "execution_count": 116,
   "metadata": {},
   "outputs": [],
   "source": [
    "train1['Flight'] = train1['Origin'] + '-' + train1['Dest']\n",
    "test1['Flight'] = test1['Origin'] + '-' + test1['Dest']"
   ]
  },
  {
   "cell_type": "code",
   "execution_count": 117,
   "metadata": {},
   "outputs": [],
   "source": [
    "train1.drop(['Origin', 'Dest'], axis = 1, inplace = True)\n",
    "test1.drop(['Origin', 'Dest'], axis = 1, inplace = True)"
   ]
  },
  {
   "cell_type": "markdown",
   "metadata": {},
   "source": [
    "***Also, I suppose, that all features with date are numerical, not categorical, thus removing extra c-.***"
   ]
  },
  {
   "cell_type": "code",
   "execution_count": 118,
   "metadata": {},
   "outputs": [],
   "source": [
    "train1['Month'] = train1['Month'].map(lambda x: x.lstrip('c-'))\n",
    "train1['DayofMonth'] = train1['DayofMonth'].map(lambda x: x.lstrip('c-'))\n",
    "train1['DayOfWeek'] = train1['DayOfWeek'].map(lambda x: x.lstrip('c-'))\n",
    "\n",
    "test1['Month'] = test1['Month'].map(lambda x: x.lstrip('c-'))\n",
    "test1['DayofMonth'] = test1['DayofMonth'].map(lambda x: x.lstrip('c-'))\n",
    "test1['DayOfWeek'] = test1['DayOfWeek'].map(lambda x: x.lstrip('c-'))\n",
    "\n",
    "\n"
   ]
  },
  {
   "cell_type": "code",
   "execution_count": 119,
   "metadata": {},
   "outputs": [
    {
     "data": {
      "text/html": [
       "<div>\n",
       "<style scoped>\n",
       "    .dataframe tbody tr th:only-of-type {\n",
       "        vertical-align: middle;\n",
       "    }\n",
       "\n",
       "    .dataframe tbody tr th {\n",
       "        vertical-align: top;\n",
       "    }\n",
       "\n",
       "    .dataframe thead th {\n",
       "        text-align: right;\n",
       "    }\n",
       "</style>\n",
       "<table border=\"1\" class=\"dataframe\">\n",
       "  <thead>\n",
       "    <tr style=\"text-align: right;\">\n",
       "      <th></th>\n",
       "      <th>Month</th>\n",
       "      <th>DayofMonth</th>\n",
       "      <th>DayOfWeek</th>\n",
       "      <th>DepTime</th>\n",
       "      <th>UniqueCarrier</th>\n",
       "      <th>Distance</th>\n",
       "      <th>dep_delayed_15min</th>\n",
       "      <th>Flight</th>\n",
       "    </tr>\n",
       "  </thead>\n",
       "  <tbody>\n",
       "    <tr>\n",
       "      <th>0</th>\n",
       "      <td>8</td>\n",
       "      <td>21</td>\n",
       "      <td>7</td>\n",
       "      <td>1934</td>\n",
       "      <td>AA</td>\n",
       "      <td>732</td>\n",
       "      <td>N</td>\n",
       "      <td>ATL-DFW</td>\n",
       "    </tr>\n",
       "    <tr>\n",
       "      <th>1</th>\n",
       "      <td>4</td>\n",
       "      <td>20</td>\n",
       "      <td>3</td>\n",
       "      <td>1548</td>\n",
       "      <td>US</td>\n",
       "      <td>834</td>\n",
       "      <td>N</td>\n",
       "      <td>PIT-MCO</td>\n",
       "    </tr>\n",
       "    <tr>\n",
       "      <th>2</th>\n",
       "      <td>9</td>\n",
       "      <td>2</td>\n",
       "      <td>5</td>\n",
       "      <td>1422</td>\n",
       "      <td>XE</td>\n",
       "      <td>416</td>\n",
       "      <td>N</td>\n",
       "      <td>RDU-CLE</td>\n",
       "    </tr>\n",
       "    <tr>\n",
       "      <th>3</th>\n",
       "      <td>11</td>\n",
       "      <td>25</td>\n",
       "      <td>6</td>\n",
       "      <td>1015</td>\n",
       "      <td>OO</td>\n",
       "      <td>872</td>\n",
       "      <td>N</td>\n",
       "      <td>DEN-MEM</td>\n",
       "    </tr>\n",
       "    <tr>\n",
       "      <th>4</th>\n",
       "      <td>10</td>\n",
       "      <td>7</td>\n",
       "      <td>6</td>\n",
       "      <td>1828</td>\n",
       "      <td>WN</td>\n",
       "      <td>423</td>\n",
       "      <td>Y</td>\n",
       "      <td>MDW-OMA</td>\n",
       "    </tr>\n",
       "  </tbody>\n",
       "</table>\n",
       "</div>"
      ],
      "text/plain": [
       "  Month DayofMonth DayOfWeek  DepTime UniqueCarrier  Distance  \\\n",
       "0     8         21         7     1934            AA       732   \n",
       "1     4         20         3     1548            US       834   \n",
       "2     9          2         5     1422            XE       416   \n",
       "3    11         25         6     1015            OO       872   \n",
       "4    10          7         6     1828            WN       423   \n",
       "\n",
       "  dep_delayed_15min   Flight  \n",
       "0                 N  ATL-DFW  \n",
       "1                 N  PIT-MCO  \n",
       "2                 N  RDU-CLE  \n",
       "3                 N  DEN-MEM  \n",
       "4                 Y  MDW-OMA  "
      ]
     },
     "execution_count": 119,
     "metadata": {},
     "output_type": "execute_result"
    }
   ],
   "source": [
    "train1.head()"
   ]
  },
  {
   "cell_type": "code",
   "execution_count": 120,
   "metadata": {},
   "outputs": [
    {
     "data": {
      "text/plain": [
       "Month                object\n",
       "DayofMonth           object\n",
       "DayOfWeek            object\n",
       "DepTime               int64\n",
       "UniqueCarrier        object\n",
       "Distance              int64\n",
       "dep_delayed_15min    object\n",
       "Flight               object\n",
       "dtype: object"
      ]
     },
     "execution_count": 120,
     "metadata": {},
     "output_type": "execute_result"
    }
   ],
   "source": [
    "train1.dtypes"
   ]
  },
  {
   "cell_type": "code",
   "execution_count": 121,
   "metadata": {},
   "outputs": [],
   "source": [
    "train1 = train1.astype({\"Month\": int, \"DayofMonth\": int, \"DayOfWeek\": int})\n",
    "test1 = test1.astype({\"Month\": int, \"DayofMonth\": int, \"DayOfWeek\": int})"
   ]
  },
  {
   "cell_type": "code",
   "execution_count": 122,
   "metadata": {},
   "outputs": [
    {
     "data": {
      "text/plain": [
       "Month                 int32\n",
       "DayofMonth            int32\n",
       "DayOfWeek             int32\n",
       "DepTime               int64\n",
       "UniqueCarrier        object\n",
       "Distance              int64\n",
       "dep_delayed_15min    object\n",
       "Flight               object\n",
       "dtype: object"
      ]
     },
     "execution_count": 122,
     "metadata": {},
     "output_type": "execute_result"
    }
   ],
   "source": [
    "train1.dtypes"
   ]
  },
  {
   "cell_type": "markdown",
   "metadata": {},
   "source": [
    "***I'll start with dummy variables.***"
   ]
  },
  {
   "cell_type": "code",
   "execution_count": 123,
   "metadata": {},
   "outputs": [],
   "source": [
    "for i in ['UniqueCarrier', 'Flight']:\n",
    "    train1 = pd.get_dummies(train1, prefix=[i], columns = [i], drop_first=True)\n",
    "    test1 = pd.get_dummies(test1, prefix=[i], columns = [i], drop_first=True)"
   ]
  },
  {
   "cell_type": "code",
   "execution_count": 124,
   "metadata": {},
   "outputs": [
    {
     "data": {
      "text/html": [
       "<div>\n",
       "<style scoped>\n",
       "    .dataframe tbody tr th:only-of-type {\n",
       "        vertical-align: middle;\n",
       "    }\n",
       "\n",
       "    .dataframe tbody tr th {\n",
       "        vertical-align: top;\n",
       "    }\n",
       "\n",
       "    .dataframe thead th {\n",
       "        text-align: right;\n",
       "    }\n",
       "</style>\n",
       "<table border=\"1\" class=\"dataframe\">\n",
       "  <thead>\n",
       "    <tr style=\"text-align: right;\">\n",
       "      <th></th>\n",
       "      <th>Month</th>\n",
       "      <th>DayofMonth</th>\n",
       "      <th>DayOfWeek</th>\n",
       "      <th>DepTime</th>\n",
       "      <th>Distance</th>\n",
       "      <th>dep_delayed_15min</th>\n",
       "      <th>UniqueCarrier_AQ</th>\n",
       "      <th>UniqueCarrier_AS</th>\n",
       "      <th>UniqueCarrier_B6</th>\n",
       "      <th>UniqueCarrier_CO</th>\n",
       "      <th>...</th>\n",
       "      <th>Flight_XNA-IAH</th>\n",
       "      <th>Flight_XNA-LAX</th>\n",
       "      <th>Flight_XNA-LGA</th>\n",
       "      <th>Flight_XNA-ORD</th>\n",
       "      <th>Flight_XNA-SLC</th>\n",
       "      <th>Flight_YAK-CDV</th>\n",
       "      <th>Flight_YAK-JNU</th>\n",
       "      <th>Flight_YUM-IPL</th>\n",
       "      <th>Flight_YUM-LAX</th>\n",
       "      <th>Flight_YUM-PHX</th>\n",
       "    </tr>\n",
       "  </thead>\n",
       "  <tbody>\n",
       "    <tr>\n",
       "      <th>0</th>\n",
       "      <td>8</td>\n",
       "      <td>21</td>\n",
       "      <td>7</td>\n",
       "      <td>1934</td>\n",
       "      <td>732</td>\n",
       "      <td>N</td>\n",
       "      <td>0</td>\n",
       "      <td>0</td>\n",
       "      <td>0</td>\n",
       "      <td>0</td>\n",
       "      <td>...</td>\n",
       "      <td>0</td>\n",
       "      <td>0</td>\n",
       "      <td>0</td>\n",
       "      <td>0</td>\n",
       "      <td>0</td>\n",
       "      <td>0</td>\n",
       "      <td>0</td>\n",
       "      <td>0</td>\n",
       "      <td>0</td>\n",
       "      <td>0</td>\n",
       "    </tr>\n",
       "    <tr>\n",
       "      <th>1</th>\n",
       "      <td>4</td>\n",
       "      <td>20</td>\n",
       "      <td>3</td>\n",
       "      <td>1548</td>\n",
       "      <td>834</td>\n",
       "      <td>N</td>\n",
       "      <td>0</td>\n",
       "      <td>0</td>\n",
       "      <td>0</td>\n",
       "      <td>0</td>\n",
       "      <td>...</td>\n",
       "      <td>0</td>\n",
       "      <td>0</td>\n",
       "      <td>0</td>\n",
       "      <td>0</td>\n",
       "      <td>0</td>\n",
       "      <td>0</td>\n",
       "      <td>0</td>\n",
       "      <td>0</td>\n",
       "      <td>0</td>\n",
       "      <td>0</td>\n",
       "    </tr>\n",
       "    <tr>\n",
       "      <th>2</th>\n",
       "      <td>9</td>\n",
       "      <td>2</td>\n",
       "      <td>5</td>\n",
       "      <td>1422</td>\n",
       "      <td>416</td>\n",
       "      <td>N</td>\n",
       "      <td>0</td>\n",
       "      <td>0</td>\n",
       "      <td>0</td>\n",
       "      <td>0</td>\n",
       "      <td>...</td>\n",
       "      <td>0</td>\n",
       "      <td>0</td>\n",
       "      <td>0</td>\n",
       "      <td>0</td>\n",
       "      <td>0</td>\n",
       "      <td>0</td>\n",
       "      <td>0</td>\n",
       "      <td>0</td>\n",
       "      <td>0</td>\n",
       "      <td>0</td>\n",
       "    </tr>\n",
       "    <tr>\n",
       "      <th>3</th>\n",
       "      <td>11</td>\n",
       "      <td>25</td>\n",
       "      <td>6</td>\n",
       "      <td>1015</td>\n",
       "      <td>872</td>\n",
       "      <td>N</td>\n",
       "      <td>0</td>\n",
       "      <td>0</td>\n",
       "      <td>0</td>\n",
       "      <td>0</td>\n",
       "      <td>...</td>\n",
       "      <td>0</td>\n",
       "      <td>0</td>\n",
       "      <td>0</td>\n",
       "      <td>0</td>\n",
       "      <td>0</td>\n",
       "      <td>0</td>\n",
       "      <td>0</td>\n",
       "      <td>0</td>\n",
       "      <td>0</td>\n",
       "      <td>0</td>\n",
       "    </tr>\n",
       "    <tr>\n",
       "      <th>4</th>\n",
       "      <td>10</td>\n",
       "      <td>7</td>\n",
       "      <td>6</td>\n",
       "      <td>1828</td>\n",
       "      <td>423</td>\n",
       "      <td>Y</td>\n",
       "      <td>0</td>\n",
       "      <td>0</td>\n",
       "      <td>0</td>\n",
       "      <td>0</td>\n",
       "      <td>...</td>\n",
       "      <td>0</td>\n",
       "      <td>0</td>\n",
       "      <td>0</td>\n",
       "      <td>0</td>\n",
       "      <td>0</td>\n",
       "      <td>0</td>\n",
       "      <td>0</td>\n",
       "      <td>0</td>\n",
       "      <td>0</td>\n",
       "      <td>0</td>\n",
       "    </tr>\n",
       "  </tbody>\n",
       "</table>\n",
       "<p>5 rows × 4455 columns</p>\n",
       "</div>"
      ],
      "text/plain": [
       "   Month  DayofMonth  DayOfWeek  DepTime  Distance dep_delayed_15min  \\\n",
       "0      8          21          7     1934       732                 N   \n",
       "1      4          20          3     1548       834                 N   \n",
       "2      9           2          5     1422       416                 N   \n",
       "3     11          25          6     1015       872                 N   \n",
       "4     10           7          6     1828       423                 Y   \n",
       "\n",
       "   UniqueCarrier_AQ  UniqueCarrier_AS  UniqueCarrier_B6  UniqueCarrier_CO  \\\n",
       "0                 0                 0                 0                 0   \n",
       "1                 0                 0                 0                 0   \n",
       "2                 0                 0                 0                 0   \n",
       "3                 0                 0                 0                 0   \n",
       "4                 0                 0                 0                 0   \n",
       "\n",
       "   ...  Flight_XNA-IAH  Flight_XNA-LAX  Flight_XNA-LGA  Flight_XNA-ORD  \\\n",
       "0  ...               0               0               0               0   \n",
       "1  ...               0               0               0               0   \n",
       "2  ...               0               0               0               0   \n",
       "3  ...               0               0               0               0   \n",
       "4  ...               0               0               0               0   \n",
       "\n",
       "   Flight_XNA-SLC  Flight_YAK-CDV  Flight_YAK-JNU  Flight_YUM-IPL  \\\n",
       "0               0               0               0               0   \n",
       "1               0               0               0               0   \n",
       "2               0               0               0               0   \n",
       "3               0               0               0               0   \n",
       "4               0               0               0               0   \n",
       "\n",
       "   Flight_YUM-LAX  Flight_YUM-PHX  \n",
       "0               0               0  \n",
       "1               0               0  \n",
       "2               0               0  \n",
       "3               0               0  \n",
       "4               0               0  \n",
       "\n",
       "[5 rows x 4455 columns]"
      ]
     },
     "execution_count": 124,
     "metadata": {},
     "output_type": "execute_result"
    }
   ],
   "source": [
    "train1.head()"
   ]
  },
  {
   "cell_type": "markdown",
   "metadata": {},
   "source": [
    "***Difference in features after using dummy variables should be eliminated.***"
   ]
  },
  {
   "cell_type": "code",
   "execution_count": 125,
   "metadata": {},
   "outputs": [
    {
     "name": "stdout",
     "output_type": "stream",
     "text": [
      "(100000, 4455)\n",
      "(100000, 4692)\n"
     ]
    }
   ],
   "source": [
    "print(train1.shape)\n",
    "print(test1.shape)"
   ]
  },
  {
   "cell_type": "code",
   "execution_count": 126,
   "metadata": {},
   "outputs": [],
   "source": [
    "y_train = train1[\"dep_delayed_15min\"].map({\"Y\": 1, \"N\": 0}).values\n",
    "train1.drop(['dep_delayed_15min'], axis = 1, inplace = True)"
   ]
  },
  {
   "cell_type": "code",
   "execution_count": 127,
   "metadata": {},
   "outputs": [],
   "source": [
    "X_train = train1.copy()\n",
    "X_test = test1.copy()"
   ]
  },
  {
   "cell_type": "code",
   "execution_count": 128,
   "metadata": {},
   "outputs": [
    {
     "name": "stdout",
     "output_type": "stream",
     "text": [
      "(100000, 4454)\n",
      "(100000, 4692)\n"
     ]
    }
   ],
   "source": [
    "print(X_train.shape)\n",
    "print(X_test.shape)"
   ]
  },
  {
   "cell_type": "code",
   "execution_count": 129,
   "metadata": {},
   "outputs": [
    {
     "data": {
      "text/plain": [
       "(30000,)"
      ]
     },
     "execution_count": 129,
     "metadata": {},
     "output_type": "execute_result"
    }
   ],
   "source": [
    "y_valid.shape"
   ]
  },
  {
   "cell_type": "markdown",
   "metadata": {},
   "source": [
    "***Taking columns that appears only in both of the sets by XORing, then separating by only in X_train/X_train, and finally,  dropping them. It is much more faster way, than going by loop and checking if it is in the other frame and drop it.***"
   ]
  },
  {
   "cell_type": "code",
   "execution_count": 130,
   "metadata": {},
   "outputs": [],
   "source": [
    "features_only_in_train = (X_train.columns ^ X_test.columns) & X_train.columns\n",
    "features_only_in_test = (X_train.columns ^ X_test.columns) & X_test.columns"
   ]
  },
  {
   "cell_type": "code",
   "execution_count": 131,
   "metadata": {},
   "outputs": [],
   "source": [
    "X_train.drop(features_only_in_train, axis = 1, inplace = True)"
   ]
  },
  {
   "cell_type": "code",
   "execution_count": 132,
   "metadata": {},
   "outputs": [],
   "source": [
    "X_test.drop(features_only_in_test, axis = 1, inplace = True)"
   ]
  },
  {
   "cell_type": "code",
   "execution_count": 133,
   "metadata": {},
   "outputs": [
    {
     "name": "stdout",
     "output_type": "stream",
     "text": [
      "(100000, 4072)\n",
      "(100000, 4072)\n"
     ]
    }
   ],
   "source": [
    "print(X_train.shape)\n",
    "print(X_test.shape)"
   ]
  },
  {
   "cell_type": "code",
   "execution_count": 134,
   "metadata": {},
   "outputs": [],
   "source": [
    "X_train_part, X_valid, y_train_part, y_valid = train_test_split(\n",
    "    X_train, y_train, test_size=0.3, random_state=17\n",
    ")"
   ]
  },
  {
   "cell_type": "markdown",
   "metadata": {},
   "source": [
    "***Now all features are the same, so can do fit some models.***"
   ]
  },
  {
   "cell_type": "markdown",
   "metadata": {},
   "source": [
    "***Following the simplest and quickest way of dealing with fitting the model via Catboost. With such approach of transforming the data - it is the most reliable way to on the local machine. Logistic regression, as well as XGBoost resulted in freezing, while the grid search was active.***"
   ]
  },
  {
   "cell_type": "code",
   "execution_count": null,
   "metadata": {},
   "outputs": [],
   "source": [
    "from catboost import CatBoostClassifier"
   ]
  },
  {
   "cell_type": "code",
   "execution_count": 136,
   "metadata": {},
   "outputs": [
    {
     "name": "stderr",
     "output_type": "stream",
     "text": [
      "Custom logger is already specified. Specify more than one logger at same time is not thread safe."
     ]
    },
    {
     "name": "stdout",
     "output_type": "stream",
     "text": [
      "0.6954330214599793\n",
      "0.7153958490915728\n",
      "0.7208037196306121\n",
      "0.7261560909422773\n",
      "0.7273129027361714\n",
      "0.7278520525955101\n",
      "0.7272580418478392\n",
      "0.7265878221231992\n",
      "0.7227262263590138\n",
      "0.7202461413583673\n",
      "0.7175444874255369\n"
     ]
    }
   ],
   "source": [
    "for i in [10, 50, 100, 250, 500, 750, 1000, 2000, 3000, 4000, 5000]:\n",
    "    \n",
    "    model = CatBoostClassifier(random_state=17, learning_rate=0.1, max_depth=10, n_estimators=i)\n",
    "    model.fit(X_train_part, y_train_part, verbose=False)\n",
    "\n",
    "    cat_test_pred = model.predict_proba(X_valid)[:, 1]\n",
    "    \n",
    "    print(roc_auc_score(y_valid, cat_test_pred))"
   ]
  },
  {
   "cell_type": "markdown",
   "metadata": {},
   "source": [
    "***So, the best ROC AUC with such approach is 0.72785, and it is achived with 750 trees.*** "
   ]
  },
  {
   "cell_type": "code",
   "execution_count": 137,
   "metadata": {},
   "outputs": [],
   "source": [
    "scaler = StandardScaler()\n",
    "\n",
    "X_train_part = scaler.fit_transform(X_train_part)\n",
    "X_valid = scaler.fit_transform(X_valid)"
   ]
  },
  {
   "cell_type": "code",
   "execution_count": 138,
   "metadata": {},
   "outputs": [
    {
     "name": "stdout",
     "output_type": "stream",
     "text": [
      "0.6953746351992116\n",
      "0.7153151354720473\n",
      "0.7206837554138676\n",
      "0.7259393530760234\n",
      "0.7269373780332666\n",
      "0.7272747764861286\n"
     ]
    }
   ],
   "source": [
    "for i in [10, 50, 100, 250, 500, 750]:\n",
    "    \n",
    "    model = CatBoostClassifier(random_state=17, learning_rate=0.1, max_depth=10, n_estimators=i)\n",
    "    model.fit(X_train_part, y_train_part, verbose=False)\n",
    "\n",
    "    cat_test_pred = model.predict_proba(X_valid)[:, 1]\n",
    "    \n",
    "    print(roc_auc_score(y_valid, cat_test_pred))"
   ]
  },
  {
   "cell_type": "code",
   "execution_count": 141,
   "metadata": {},
   "outputs": [],
   "source": [
    "scaler = StandardScaler()\n",
    "\n",
    "X_train = scaler.fit_transform(X_train)\n",
    "X_test = scaler.fit_transform(X_test)"
   ]
  },
  {
   "cell_type": "code",
   "execution_count": 142,
   "metadata": {},
   "outputs": [],
   "source": [
    "model = CatBoostClassifier(random_state=17, learning_rate=0.1, max_depth=10, n_estimators=750)\n",
    "model.fit(X_train, y_train, verbose=False)\n",
    "\n",
    "cat_test_pred = model.predict_proba(X_test)[:, 1]\n",
    "\n",
    "pd.Series(cat_test_pred, name=\"dep_delayed_15min\").to_csv(\n",
    "    \"cat_lim.csv\", index_label=\"id\", header=True\n",
    ")\n",
    "\n"
   ]
  },
  {
   "cell_type": "markdown",
   "metadata": {},
   "source": [
    "***Both of the results with and without scaling with a catboost gave a result below 2nd benchmark - 0.71840 and 0.71893 respectfully.***"
   ]
  },
  {
   "cell_type": "markdown",
   "metadata": {},
   "source": [
    "***Another approach is not to go with dummy variables, but try a label encoding.***"
   ]
  },
  {
   "cell_type": "code",
   "execution_count": 193,
   "metadata": {},
   "outputs": [],
   "source": [
    "train2 =  train.copy()\n",
    "test2 = test.copy()"
   ]
  },
  {
   "cell_type": "code",
   "execution_count": 194,
   "metadata": {},
   "outputs": [],
   "source": [
    "train2['Month'] = train2['Month'].map(lambda x: x.lstrip('c-'))\n",
    "train2['DayofMonth'] = train2['DayofMonth'].map(lambda x: x.lstrip('c-'))\n",
    "train2['DayOfWeek'] = train2['DayOfWeek'].map(lambda x: x.lstrip('c-'))\n",
    "\n",
    "test2['Month'] = test2['Month'].map(lambda x: x.lstrip('c-'))\n",
    "test2['DayofMonth'] = test2['DayofMonth'].map(lambda x: x.lstrip('c-'))\n",
    "test2['DayOfWeek'] = test2['DayOfWeek'].map(lambda x: x.lstrip('c-'))"
   ]
  },
  {
   "cell_type": "code",
   "execution_count": 195,
   "metadata": {},
   "outputs": [],
   "source": [
    "train2 = train2.astype({\"Month\": int, \"DayofMonth\": int, \"DayOfWeek\": int})\n",
    "test2 = test2.astype({\"Month\": int, \"DayofMonth\": int, \"DayOfWeek\": int})"
   ]
  },
  {
   "cell_type": "code",
   "execution_count": 198,
   "metadata": {},
   "outputs": [],
   "source": [
    "carr_dict = {}\n",
    "UniqueCarrier = train2[\"UniqueCarrier\"].unique()\n"
   ]
  },
  {
   "cell_type": "code",
   "execution_count": 200,
   "metadata": {},
   "outputs": [],
   "source": [
    "num = 1\n",
    "for i in UniqueCarrier:\n",
    "    carr_dict[i] = num\n",
    "    num += 1"
   ]
  },
  {
   "cell_type": "code",
   "execution_count": 208,
   "metadata": {},
   "outputs": [],
   "source": [
    "dest_dict = {}\n",
    "dest = train2[\"Dest\"].unique()"
   ]
  },
  {
   "cell_type": "code",
   "execution_count": 209,
   "metadata": {},
   "outputs": [],
   "source": [
    "num = 1\n",
    "for i in dest:\n",
    "    dest_dict[i] = num\n",
    "    num += 1"
   ]
  },
  {
   "cell_type": "code",
   "execution_count": 211,
   "metadata": {},
   "outputs": [],
   "source": [
    "train2['Dest'] = train2['Dest'].map(dest_dict)\n"
   ]
  },
  {
   "cell_type": "code",
   "execution_count": 213,
   "metadata": {},
   "outputs": [],
   "source": [
    "train2['Origin'] = train2['Origin'].map(dest_dict)\n",
    "train2['UniqueCarrier'] = train2['UniqueCarrier'].map(carr_dict)"
   ]
  },
  {
   "cell_type": "code",
   "execution_count": 214,
   "metadata": {},
   "outputs": [],
   "source": [
    "test2['Dest'] = test2['Dest'].map(dest_dict)\n",
    "test2['Origin'] = test2['Origin'].map(dest_dict)\n",
    "test2['UniqueCarrier'] = test2['UniqueCarrier'].map(carr_dict)"
   ]
  },
  {
   "cell_type": "code",
   "execution_count": 217,
   "metadata": {},
   "outputs": [],
   "source": [
    "train2.drop(['dep_delayed_15min'], axis = 1, inplace = True)"
   ]
  },
  {
   "cell_type": "code",
   "execution_count": 218,
   "metadata": {},
   "outputs": [],
   "source": [
    "X_train_part, X_valid, y_train_part, y_valid = train_test_split(\n",
    "    train2, y_train, test_size=0.3, random_state=17\n",
    ")"
   ]
  },
  {
   "cell_type": "code",
   "execution_count": 219,
   "metadata": {},
   "outputs": [
    {
     "name": "stdout",
     "output_type": "stream",
     "text": [
      "0.6927985635920788\n",
      "0.7132375667603804\n",
      "0.7222161934646052\n",
      "0.7319716026172626\n",
      "0.7290009830783937\n",
      "0.7256043157522308\n",
      "0.7224978968360689\n",
      "0.7155336759207088\n"
     ]
    }
   ],
   "source": [
    "for i in [10, 50, 100, 250, 500, 750, 1000, 2000]:\n",
    "    \n",
    "    model = CatBoostClassifier(random_state=17, learning_rate=0.1, max_depth=10, n_estimators=i)\n",
    "    model.fit(X_train_part, y_train_part, verbose=False)\n",
    "\n",
    "    cat_test_pred = model.predict_proba(X_valid)[:, 1]\n",
    "    \n",
    "    print(roc_auc_score(y_valid, cat_test_pred))"
   ]
  },
  {
   "cell_type": "code",
   "execution_count": 220,
   "metadata": {},
   "outputs": [],
   "source": [
    "model = CatBoostClassifier(random_state=17, learning_rate=0.1, max_depth=10, n_estimators=250)\n",
    "model.fit(train2, y_train, verbose=False)\n",
    "\n",
    "cat_test_pred = model.predict_proba(test2)[:, 1]\n",
    "\n",
    "pd.Series(cat_test_pred, name=\"dep_delayed_15min\").to_csv(\n",
    "    \"cat_lim.csv\", index_label=\"id\", header=True\n",
    ")"
   ]
  },
  {
   "cell_type": "markdown",
   "metadata": {},
   "source": [
    "***The result from Kaggle competition is 0.72221, which is surpassing 2nd benchmark, thus the assignment is completed.***"
   ]
  },
  {
   "cell_type": "code",
   "execution_count": 221,
   "metadata": {},
   "outputs": [
    {
     "name": "stdout",
     "output_type": "stream",
     "text": [
      "10 0.1 4\n",
      "0.6870971695285232\n",
      "10 0.1 6\n",
      "0.689041887554039\n",
      "10 0.03 4\n",
      "0.6837963038356016\n",
      "10 0.03 6\n",
      "0.6844952887133133\n",
      "10 0.01 4\n",
      "0.6821217736903122\n",
      "10 0.01 6\n",
      "0.6844352050510027\n",
      "50 0.1 4\n",
      "0.6997476130744168\n",
      "50 0.1 6\n",
      "0.7052367376450113\n",
      "50 0.03 4\n",
      "0.6903409111310552\n",
      "50 0.03 6\n",
      "0.6923693966481035\n",
      "50 0.01 4\n",
      "0.6826464521134191\n",
      "50 0.01 6\n",
      "0.6864084343447441\n",
      "100 0.1 4\n",
      "0.7090754583845561\n",
      "100 0.1 6\n",
      "0.7160255088985732\n",
      "100 0.03 4\n",
      "0.6959778111898296\n",
      "100 0.03 6\n",
      "0.6996806164904372\n",
      "100 0.01 4\n",
      "0.6862799178356099\n",
      "100 0.01 6\n",
      "0.6892834408505432\n",
      "250 0.1 4\n",
      "0.7272831909553161\n",
      "250 0.1 6\n",
      "0.7339675799932213\n",
      "250 0.03 4\n",
      "0.7082352663823277\n",
      "250 0.03 6\n",
      "0.7149079658365298\n",
      "250 0.01 4\n",
      "0.6966892400519303\n",
      "250 0.01 6\n",
      "0.7004361850465091\n",
      "500 0.1 4\n",
      "0.73541917748201\n",
      "500 0.1 6\n",
      "0.7400401283134012\n",
      "500 0.03 4\n",
      "0.7184342595112971\n",
      "500 0.03 6\n",
      "0.7275506259984248\n",
      "500 0.01 4\n",
      "0.7033620410600708\n",
      "500 0.01 6\n",
      "0.7091575865053676\n",
      "750 0.1 4\n",
      "0.7381889523459958\n",
      "750 0.1 6\n",
      "0.7414440317203727\n",
      "750 0.03 4\n",
      "0.7254720852704898\n",
      "750 0.03 6\n",
      "0.7337530835674666\n",
      "750 0.01 4\n",
      "0.7080147202433813\n",
      "750 0.01 6\n",
      "0.7149780453079269\n",
      "1000 0.1 4\n",
      "0.7393964576898183\n",
      "1000 0.1 6\n",
      "0.7420919385939604\n",
      "1000 0.03 4\n",
      "0.7296533800868322\n",
      "1000 0.03 6\n",
      "0.7375481107249844\n",
      "1000 0.01 4\n",
      "0.7119011205570378\n",
      "1000 0.01 6\n",
      "0.7192299708884755\n"
     ]
    }
   ],
   "source": [
    "for i in [10, 50, 100, 250, 500, 750, 1000]:\n",
    "    for j in [0.1, 0.03, 0.01]:\n",
    "        for k in range (4, 8, 2):\n",
    "            print(i, j, k)\n",
    "            model = CatBoostClassifier(random_state=17, learning_rate = j, max_depth = k, n_estimators=i)\n",
    "            model.fit(X_train_part, y_train_part, verbose=False)\n",
    "\n",
    "            cat_test_pred = model.predict_proba(X_valid)[:, 1]\n",
    "        \n",
    "            print(roc_auc_score(y_valid, cat_test_pred))"
   ]
  },
  {
   "cell_type": "markdown",
   "metadata": {},
   "source": [
    "***Using the model with best ROC AUC here leads to 0.72880 in Kaggle competition, which is even better than previous and closing to the 3rd benchmark.***"
   ]
  },
  {
   "cell_type": "code",
   "execution_count": 222,
   "metadata": {},
   "outputs": [],
   "source": [
    "model = CatBoostClassifier(random_state=17, learning_rate=0.1, max_depth=6, n_estimators=1000)\n",
    "model.fit(train2, y_train, verbose=False)\n",
    "\n",
    "cat_test_pred = model.predict_proba(test2)[:, 1]\n",
    "\n",
    "pd.Series(cat_test_pred, name=\"dep_delayed_15min\").to_csv(\n",
    "    \"cat_lim.csv\", index_label=\"id\", header=True\n",
    ")"
   ]
  },
  {
   "cell_type": "code",
   "execution_count": null,
   "metadata": {},
   "outputs": [],
   "source": []
  },
  {
   "cell_type": "code",
   "execution_count": 224,
   "metadata": {},
   "outputs": [
    {
     "name": "stderr",
     "output_type": "stream",
     "text": [
      "Custom logger is already specified. Specify more than one logger at same time is not thread safe."
     ]
    },
    {
     "name": "stdout",
     "output_type": "stream",
     "text": [
      "100 0.1 9\n",
      "0.7216518872439367\n",
      "250 0.1 3\n",
      "0.7206417338448992\n",
      "250 0.1 5\n",
      "0.7314585158508471\n",
      "250 0.1 7\n",
      "0.7351797205489499\n",
      "250 0.1 9\n",
      "0.7343747387479596\n",
      "250 0.03 9\n",
      "0.7223629679211055\n",
      "500 0.1 3\n",
      "0.7298193047145871\n",
      "500 0.1 5\n",
      "0.7379884195867806\n",
      "500 0.1 7\n",
      "0.7403956541442802\n",
      "500 0.1 9\n",
      "0.7337887797768389\n",
      "500 0.03 5\n",
      "0.7230583730224863\n",
      "500 0.03 7\n",
      "0.7294529271199974\n",
      "500 0.03 9\n",
      "0.7323349335936983\n",
      "750 0.1 3\n",
      "0.7334615657332348\n",
      "750 0.1 5\n",
      "0.7402983219481092\n",
      "750 0.1 7\n",
      "0.7406746373209636\n",
      "750 0.1 9\n",
      "0.731062165336703\n",
      "750 0.03 5\n",
      "0.729839883894833\n",
      "750 0.03 7\n",
      "0.7354321546245759\n",
      "750 0.03 9\n",
      "0.736164003082162\n",
      "750 0.01 9\n",
      "0.7230790537566705\n",
      "1000 0.1 3\n",
      "0.7359172922963539\n",
      "1000 0.1 5\n",
      "0.740800237781293\n",
      "1000 0.1 7\n",
      "0.740810712344661\n",
      "1000 0.1 9\n",
      "0.7298111151148348\n",
      "1000 0.03 3\n",
      "0.7229400336687575\n",
      "1000 0.03 5\n",
      "0.7336648839719051\n",
      "1000 0.03 7\n",
      "0.7382416660939146\n",
      "1000 0.03 9\n",
      "0.7372296956047637\n",
      "1000 0.01 7\n",
      "0.7224967579811875\n",
      "1000 0.01 9\n",
      "0.7271106145445914\n"
     ]
    }
   ],
   "source": [
    "for i in [10, 50, 100, 250, 500, 750, 1000]:\n",
    "    for j in [0.1, 0.03, 0.01]:\n",
    "        for k in range (3, 10, 2):\n",
    "            \n",
    "            model = CatBoostClassifier(random_state=17, learning_rate = j, max_depth = k, n_estimators=i)\n",
    "            model.fit(X_train_part, y_train_part, verbose=False)\n",
    "\n",
    "            cat_test_pred = model.predict_proba(X_valid)[:, 1]\n",
    "            roc_auc = roc_auc_score(y_valid, cat_test_pred)\n",
    "            if(roc_auc > 0.72):\n",
    "                print(i, j, k)\n",
    "                print(roc_auc_score(y_valid, cat_test_pred))"
   ]
  },
  {
   "cell_type": "code",
   "execution_count": 226,
   "metadata": {},
   "outputs": [],
   "source": [
    "model = CatBoostClassifier(random_state=17, learning_rate=0.1, max_depth=5, n_estimators=1000)\n",
    "model.fit(train2, y_train, verbose=False)\n",
    "\n",
    "cat_test_pred = model.predict_proba(test2)[:, 1]\n",
    "\n",
    "pd.Series(cat_test_pred, name=\"dep_delayed_15min\").to_csv(\n",
    "    \"cat_lim.csv\", index_label=\"id\", header=True\n",
    ")"
   ]
  },
  {
   "cell_type": "markdown",
   "metadata": {},
   "source": [
    "***After some more tuning above, the model with parameters learning_rate=0.1, max_depth=5, n_estimators=1000 gave Kaggle ROC AUC on the testing dataset 0.73027, which is beating all 3 set benchmarks for the competition.***"
   ]
  },
  {
   "cell_type": "markdown",
   "metadata": {},
   "source": [
    "***Thus, the resulted model (ROC AUC from Kaggle after submission is 0.73027) is better than:***\n",
    "- benchmark1, ROC AUC 0.68202;\n",
    "- benchmark2, ROC AUC 0.72045;\n",
    "- benchmark3, ROC AUC 0.72988;\n",
    "- 65% of other submissions.\n",
    "\n",
    "***As the goal was to beat 2 out of 3 benchmarks, and all 3 are surpassed, there is no more reson to try to tune the model, or look of another approach. The resulted model is approximately in top 35% of all submissions.***\n"
   ]
  },
  {
   "cell_type": "markdown",
   "metadata": {},
   "source": [
    "***XGBoost.***"
   ]
  },
  {
   "cell_type": "code",
   "execution_count": 234,
   "metadata": {},
   "outputs": [],
   "source": [
    "from xgboost.sklearn import XGBClassifier"
   ]
  },
  {
   "cell_type": "code",
   "execution_count": 244,
   "metadata": {},
   "outputs": [
    {
     "name": "stdout",
     "output_type": "stream",
     "text": [
      "0.5289984913799748 10 0.1\n",
      "0.5268125065851382 10 0.03\n",
      "0.5258682544383152 10 0.01\n",
      "0.5289438154648876 25 0.1\n",
      "0.5271678728312567 25 0.03\n",
      "0.527145005060469 25 0.01\n",
      "0.5329954367825827 50 0.1\n",
      "0.5275704072548683 50 0.03\n",
      "0.524672257331877 50 0.01\n",
      "0.5386189679907426 75 0.1\n",
      "0.5277964191718603 75 0.03\n",
      "0.5269114854058831 75 0.01\n",
      "0.5423418447019038 100 0.1\n",
      "0.5288700256478098 100 0.03\n",
      "0.5283722662722505 100 0.01\n",
      "0.5494840425213594 150 0.1\n",
      "0.5313534909438369 150 0.03\n",
      "0.527644197071946 150 0.01\n",
      "0.5536108862920499 200 0.1\n",
      "0.5346579291592368 200 0.03\n",
      "0.5273695843415432 200 0.01\n",
      "0.5569228322450439 250 0.1\n",
      "0.537479968032271 250 0.03\n",
      "0.5279813380130355 250 0.01\n",
      "0.5660087543121888 500 0.1\n",
      "0.5479957514184456 500 0.03\n",
      "0.5325153586730962 500 0.01\n",
      "0.5718466912729442 750 0.1\n",
      "0.554329126521881 750 0.03\n",
      "0.5373856316772847 750 0.01\n",
      "0.5751782951668848 1000 0.1\n",
      "0.5584148772167548 1000 0.03\n",
      "0.5414676285033615 1000 0.01\n",
      "0.5829483502109329 2000 0.1\n",
      "0.5679953488296181 2000 0.03\n",
      "0.5503003729749737 2000 0.01\n"
     ]
    }
   ],
   "source": [
    "for i in [10, 25, 50, 75, 100, 150, 200, 250, 500, 750, 1000, 2000]:\n",
    "    for j in [0.1, 0.03, 0.01]:\n",
    "        mod = XGBClassifier(learning_rate = j, n_estimators=i, seed=17, eval_metric='mlogloss');\n",
    "        mod.fit(X_train_part, y_train_part);\n",
    "        xgb_valid_pred = mod.predict(X_valid);\n",
    "    \n",
    "        roc_auc = roc_auc_score(y_valid, xgb_valid_pred)\n",
    "    \n",
    "        print(roc_auc, i, j)"
   ]
  },
  {
   "cell_type": "markdown",
   "metadata": {},
   "source": [
    "***The rest of the approaches, that can be tried are either are computationally inefficient on the local device or perform much worse than Catboost approach.***"
   ]
  },
  {
   "cell_type": "markdown",
   "metadata": {},
   "source": [
    "The second benchmark in the leaderboard was achieved as follows:\n",
    "\n",
    "- Features `Distance` and `DepTime` were taken unchanged\n",
    "- A feature `Flight` was created from features `Origin` and `Dest`\n",
    "- Features `Month`, `DayofMonth`, `DayOfWeek`, `UniqueCarrier` and `Flight` were transformed with OHE (`LabelBinarizer`)\n",
    "- Logistic regression and gradient boosting (xgboost) were trained. Xgboost hyperparameters were tuned via cross-validation. First, the hyperparameters responsible for model complexity were optimized, then the number of trees was fixed at 500 and learning step was tuned.\n",
    "- Predicted probabilities were made via cross-validation using `cross_val_predict`. A linear mixture of logistic regression and gradient boosting predictions was set in the form $w_1 * p_{logit} + (1 - w_1) * p_{xgb}$, where $p_{logit}$ is a probability of class 1, predicted by logistic regression, and $p_{xgb}$ – the same for xgboost. $w_1$ weight was selected manually.\n",
    "- A similar combination of predictions was made for test set. \n",
    "\n",
    "Following the same steps is not mandatory. That’s just a description of how the result was achieved by the author of this assignment. Perhaps you might not want to follow the same steps, and instead, let’s say, add a couple of good features and train a random forest of a thousand trees.\n",
    "\n",
    "Good luck!"
   ]
  },
  {
   "cell_type": "code",
   "execution_count": null,
   "metadata": {},
   "outputs": [],
   "source": []
  }
 ],
 "metadata": {
  "kernelspec": {
   "display_name": "Python 3",
   "language": "python",
   "name": "python3"
  },
  "language_info": {
   "codemirror_mode": {
    "name": "ipython",
    "version": 3
   },
   "file_extension": ".py",
   "mimetype": "text/x-python",
   "name": "python",
   "nbconvert_exporter": "python",
   "pygments_lexer": "ipython3",
   "version": "3.7.3"
  }
 },
 "nbformat": 4,
 "nbformat_minor": 2
}
